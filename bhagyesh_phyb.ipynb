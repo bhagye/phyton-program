{
  "nbformat": 4,
  "nbformat_minor": 0,
  "metadata": {
    "colab": {
      "name": "bhagyesh.phyb",
      "provenance": [],
      "authorship_tag": "ABX9TyMfa+uq7FVu8WCy+fmtMw+e",
      "include_colab_link": true
    },
    "kernelspec": {
      "name": "python3",
      "display_name": "Python 3"
    },
    "language_info": {
      "name": "python"
    }
  },
  "cells": [
    {
      "cell_type": "markdown",
      "metadata": {
        "id": "view-in-github",
        "colab_type": "text"
      },
      "source": [
        "<a href=\"https://colab.research.google.com/github/bhagye/phyton-program/blob/main/bhagyesh_phyb.ipynb\" target=\"_parent\"><img src=\"https://colab.research.google.com/assets/colab-badge.svg\" alt=\"Open In Colab\"/></a>"
      ]
    },
    {
      "cell_type": "code",
      "execution_count": 1,
      "metadata": {
        "colab": {
          "base_uri": "https://localhost:8080/"
        },
        "id": "PGFenSAqRN8K",
        "outputId": "3be86e5a-5b49-48eb-a48d-d55e3480e5c8"
      },
      "outputs": [
        {
          "output_type": "stream",
          "name": "stdout",
          "text": [
            "delicious\n",
            "['apple', 'banana', 'guava', 'pineapple', 'watermelon', 'orange']\n"
          ]
        }
      ],
      "source": [
        "fruit=['apple','banana','guava','pineapple','watermelon']\n",
        "fruits=['orange',]\n",
        "print(\"delicious\")\n",
        "fruit.extend(fruits)\n",
        "print(fruit)"
      ]
    },
    {
      "cell_type": "code",
      "source": [
        "fruit=['apple','banana','guava','pineapple','watermelon']\n",
        "print(fruit)\n",
        "fruit.remove('apple')\n",
        "print(fruit)"
      ],
      "metadata": {
        "colab": {
          "base_uri": "https://localhost:8080/"
        },
        "id": "_c3lRjkkRSV-",
        "outputId": "834311b9-139b-467c-f224-77362697d326"
      },
      "execution_count": 2,
      "outputs": [
        {
          "output_type": "stream",
          "name": "stdout",
          "text": [
            "['apple', 'banana', 'guava', 'pineapple', 'watermelon']\n",
            "['banana', 'guava', 'pineapple', 'watermelon']\n"
          ]
        }
      ]
    },
    {
      "cell_type": "code",
      "source": [
        "num=[3,4,5,6,1,2]\n",
        "num.sort()\n",
        "print(num)\n",
        "num.sort(reverse=True)\n",
        "print(num)\n"
      ],
      "metadata": {
        "colab": {
          "base_uri": "https://localhost:8080/"
        },
        "id": "eWHdHxEURfdE",
        "outputId": "e2a3077b-9f7f-43c5-a15c-dcd4151a2211"
      },
      "execution_count": 3,
      "outputs": [
        {
          "output_type": "stream",
          "name": "stdout",
          "text": [
            "[1, 2, 3, 4, 5, 6]\n",
            "[6, 5, 4, 3, 2, 1]\n"
          ]
        }
      ]
    },
    {
      "cell_type": "code",
      "source": [
        "details=['name','rollno','marks']\n",
        "## Printing\n",
        "print(details)\n",
        "## Inserting\n",
        "details.insert(3,'address')\n",
        "print(details)\n",
        "## Adding\n",
        "details.append('village')\n",
        "print(details)\n",
        "## Removing\n",
        "details.remove('marks')\n",
        "print(details)\n",
        "## Pop\n",
        "details.pop(2)\n",
        "print(details)\n",
        "## Delete\n",
        "del details[1]\n",
        "print(details)\n"
      ],
      "metadata": {
        "colab": {
          "base_uri": "https://localhost:8080/"
        },
        "id": "htnCPwXlRiN5",
        "outputId": "56d59c6e-e31d-40e1-c543-e0b72ac55f1d"
      },
      "execution_count": 4,
      "outputs": [
        {
          "output_type": "stream",
          "name": "stdout",
          "text": [
            "['name', 'rollno', 'marks']\n",
            "['name', 'rollno', 'marks', 'address']\n",
            "['name', 'rollno', 'marks', 'address', 'village']\n",
            "['name', 'rollno', 'address', 'village']\n",
            "['name', 'rollno', 'village']\n",
            "['name', 'village']\n"
          ]
        }
      ]
    },
    {
      "cell_type": "code",
      "source": [
        "alphabet=['a','b','C','d','B']\n",
        "alphabet.sort()\n",
        "print(alphabet)\n",
        "alphabet.sort(reverse=True)\n",
        "print(alphabet)"
      ],
      "metadata": {
        "colab": {
          "base_uri": "https://localhost:8080/"
        },
        "id": "Py3MqDDPRnSp",
        "outputId": "f67ffa0f-1b60-4a08-9de6-a10b87e188a2"
      },
      "execution_count": 5,
      "outputs": [
        {
          "output_type": "stream",
          "name": "stdout",
          "text": [
            "['B', 'C', 'a', 'b', 'd']\n",
            "['d', 'b', 'a', 'C', 'B']\n"
          ]
        }
      ]
    },
    {
      "cell_type": "code",
      "source": [
        "## lenght\n",
        "num=['05','07,','22','08','64','55']\n",
        "print(num)\n",
        "print(len(num))\n"
      ],
      "metadata": {
        "colab": {
          "base_uri": "https://localhost:8080/"
        },
        "id": "fAzKsK3hRuSA",
        "outputId": "b7365a1b-ca4f-4ace-fbe7-9adc9483edeb"
      },
      "execution_count": 6,
      "outputs": [
        {
          "output_type": "stream",
          "name": "stdout",
          "text": [
            "['05', '07,', '22', '08', '64', '55']\n",
            "6\n"
          ]
        }
      ]
    },
    {
      "cell_type": "code",
      "source": [
        "## reverse\n",
        "num=[1,3,8,99,45]\n",
        "num.reverse()\n",
        "print(num)"
      ],
      "metadata": {
        "colab": {
          "base_uri": "https://localhost:8080/"
        },
        "id": "f2Pp4WEoRu_G",
        "outputId": "e87e5aa4-29cf-4e73-a256-c4b52bbf01a7"
      },
      "execution_count": 7,
      "outputs": [
        {
          "output_type": "stream",
          "name": "stdout",
          "text": [
            "[45, 99, 8, 3, 1]\n"
          ]
        }
      ]
    },
    {
      "cell_type": "code",
      "source": [
        "## for loop\n",
        "colours=['orange','red','blue','grey']\n",
        "for i in range(0, 4):\n",
        "   print(colours[i])\n"
      ],
      "metadata": {
        "colab": {
          "base_uri": "https://localhost:8080/"
        },
        "id": "O9MV9sWyR05W",
        "outputId": "4d72765c-620d-472c-d3fb-148ed8d55ccf"
      },
      "execution_count": 11,
      "outputs": [
        {
          "output_type": "stream",
          "name": "stdout",
          "text": [
            "orange\n",
            "red\n",
            "blue\n",
            "grey\n"
          ]
        }
      ]
    },
    {
      "cell_type": "code",
      "source": [
        "## while loop\n",
        "colours=['orange','red','blue','grey']\n",
        "i=0\n",
        "while i<=3:\n",
        "    print(colours[i])\n",
        "    i=i+1"
      ],
      "metadata": {
        "colab": {
          "base_uri": "https://localhost:8080/"
        },
        "id": "4-DvS4UmR2y3",
        "outputId": "a8d574ce-4534-488f-995f-17a6dd77af5f"
      },
      "execution_count": 13,
      "outputs": [
        {
          "output_type": "stream",
          "name": "stdout",
          "text": [
            "orange\n",
            "red\n",
            "blue\n",
            "grey\n"
          ]
        }
      ]
    },
    {
      "cell_type": "code",
      "source": [
        "## changing all elements in list into upper case\n",
        "colours=['orange','red','green','yellow']\n",
        "Colours=[i.upper() for i in colours]\n",
        "print(Colours)"
      ],
      "metadata": {
        "colab": {
          "base_uri": "https://localhost:8080/"
        },
        "id": "RzCKzwa_STOE",
        "outputId": "913689de-cf05-4312-d4c3-e0e7859f9114"
      },
      "execution_count": 14,
      "outputs": [
        {
          "output_type": "stream",
          "name": "stdout",
          "text": [
            "['ORANGE', 'RED', 'GREEN', 'YELLOW']\n"
          ]
        }
      ]
    },
    {
      "cell_type": "code",
      "source": [
        "## Copy list\n",
        "rainbow=['violet','indigo','blue','green','yellow','orange','red']\n",
        "colours=rainbow.copy()\n",
        "print(colours)\n"
      ],
      "metadata": {
        "colab": {
          "base_uri": "https://localhost:8080/"
        },
        "id": "tARS2wmASWW8",
        "outputId": "9dae42f1-708b-4f46-f1c4-add4da475010"
      },
      "execution_count": 16,
      "outputs": [
        {
          "output_type": "stream",
          "name": "stdout",
          "text": [
            "['violet', 'indigo', 'blue', 'green', 'yellow', 'orange', 'red']\n"
          ]
        }
      ]
    },
    {
      "cell_type": "code",
      "source": [
        "## Joining of lists\n",
        "colours=['red','blue','green','yellow']\n",
        "rainbow=['violet','indigo','blue','green','yellow','orange','red']\n",
        "print(colours+rainbow)\n"
      ],
      "metadata": {
        "colab": {
          "base_uri": "https://localhost:8080/"
        },
        "id": "DU2KKRzGSh0p",
        "outputId": "89295a5a-1444-4018-d335-c5403565b285"
      },
      "execution_count": 17,
      "outputs": [
        {
          "output_type": "stream",
          "name": "stdout",
          "text": [
            "['red', 'blue', 'green', 'yellow', 'violet', 'indigo', 'blue', 'green', 'yellow', 'orange', 'red']\n"
          ]
        }
      ]
    },
    {
      "cell_type": "code",
      "source": [
        "## printing th index of an item\n",
        "colours=['orange','red','green','yellow']\n",
        "colours.index('green')"
      ],
      "metadata": {
        "colab": {
          "base_uri": "https://localhost:8080/"
        },
        "id": "NzC98kXLSlQp",
        "outputId": "78763cb3-4fe4-4bbc-bffd-23c8437c443c"
      },
      "execution_count": 18,
      "outputs": [
        {
          "output_type": "execute_result",
          "data": {
            "text/plain": [
              "2"
            ]
          },
          "metadata": {},
          "execution_count": 18
        }
      ]
    },
    {
      "cell_type": "code",
      "source": [
        "## changing an element\n",
        "colours=['orange','red','green','yellow']\n",
        "colours[2]='blue'\n",
        "print(colours)"
      ],
      "metadata": {
        "colab": {
          "base_uri": "https://localhost:8080/"
        },
        "id": "4Vq4wSzeSpbL",
        "outputId": "65c64768-87cb-4c8c-8aec-7229d8dd4374"
      },
      "execution_count": 19,
      "outputs": [
        {
          "output_type": "stream",
          "name": "stdout",
          "text": [
            "['orange', 'red', 'blue', 'yellow']\n"
          ]
        }
      ]
    }
  ]
}