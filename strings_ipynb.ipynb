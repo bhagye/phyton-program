{
  "nbformat": 4,
  "nbformat_minor": 0,
  "metadata": {
    "colab": {
      "name": "strings ipynb",
      "provenance": [],
      "authorship_tag": "ABX9TyNLeidISzaj+5aP4yIOW2r5",
      "include_colab_link": true
    },
    "kernelspec": {
      "name": "python3",
      "display_name": "Python 3"
    },
    "language_info": {
      "name": "python"
    }
  },
  "cells": [
    {
      "cell_type": "markdown",
      "metadata": {
        "id": "view-in-github",
        "colab_type": "text"
      },
      "source": [
        "<a href=\"https://colab.research.google.com/github/bhagye/phyton-program/blob/main/strings_ipynb.ipynb\" target=\"_parent\"><img src=\"https://colab.research.google.com/assets/colab-badge.svg\" alt=\"Open In Colab\"/></a>"
      ]
    },
    {
      "cell_type": "code",
      "execution_count": 1,
      "metadata": {
        "colab": {
          "base_uri": "https://localhost:8080/"
        },
        "id": "kHK7o2DV7bLb",
        "outputId": "d03ea850-9598-44cc-ba7e-cc6fa8eadf1f"
      },
      "outputs": [
        {
          "output_type": "stream",
          "name": "stdout",
          "text": [
            "string\n",
            "<class 'str'>\n",
            "n\n"
          ]
        }
      ],
      "source": [
        "a=\"string\"\n",
        "print(a)\n",
        "print(type(a))\n",
        "print(a[4])"
      ]
    },
    {
      "cell_type": "code",
      "source": [
        "a=\"hello strings\"\n",
        "print(len(a))"
      ],
      "metadata": {
        "colab": {
          "base_uri": "https://localhost:8080/"
        },
        "id": "65EPFE_p7kmC",
        "outputId": "367b4945-a5c0-4618-b51e-3d239017778b"
      },
      "execution_count": 2,
      "outputs": [
        {
          "output_type": "stream",
          "name": "stdout",
          "text": [
            "13\n"
          ]
        }
      ]
    },
    {
      "cell_type": "code",
      "source": [
        "a=\"Bhagyesh is the lover of natasha\"\n",
        "print(\"natasha\" in a)"
      ],
      "metadata": {
        "colab": {
          "base_uri": "https://localhost:8080/"
        },
        "id": "CsO2IzGZ8zXi",
        "outputId": "1d74d895-cd0a-4cf1-a928-4efbb0f47a6b"
      },
      "execution_count": 3,
      "outputs": [
        {
          "output_type": "stream",
          "name": "stdout",
          "text": [
            "True\n"
          ]
        }
      ]
    },
    {
      "cell_type": "code",
      "source": [
        ""
      ],
      "metadata": {
        "id": "AbkDz3Fm9qci"
      },
      "execution_count": null,
      "outputs": []
    },
    {
      "cell_type": "markdown",
      "source": [
        ""
      ],
      "metadata": {
        "id": "rPcNoYJF7lXh"
      }
    },
    {
      "cell_type": "markdown",
      "source": [
        ""
      ],
      "metadata": {
        "id": "ndrsRV8H7gKg"
      }
    }
  ]
}