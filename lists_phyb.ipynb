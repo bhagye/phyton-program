{
  "nbformat": 4,
  "nbformat_minor": 0,
  "metadata": {
    "colab": {
      "name": "lists.phyb",
      "provenance": [],
      "authorship_tag": "ABX9TyMbJHqd+JiHdiBhKk2Uctpa",
      "include_colab_link": true
    },
    "kernelspec": {
      "name": "python3",
      "display_name": "Python 3"
    },
    "language_info": {
      "name": "python"
    }
  },
  "cells": [
    {
      "cell_type": "markdown",
      "metadata": {
        "id": "view-in-github",
        "colab_type": "text"
      },
      "source": [
        "<a href=\"https://colab.research.google.com/github/bhagye/phyton-program/blob/main/lists_phyb.ipynb\" target=\"_parent\"><img src=\"https://colab.research.google.com/assets/colab-badge.svg\" alt=\"Open In Colab\"/></a>"
      ]
    },
    {
      "cell_type": "code",
      "execution_count": 10,
      "metadata": {
        "colab": {
          "base_uri": "https://localhost:8080/"
        },
        "id": "--vuoDuhVxtd",
        "outputId": "dd448997-fbc2-452f-f7fb-516e0f70cdc8"
      },
      "outputs": [
        {
          "output_type": "stream",
          "name": "stdout",
          "text": [
            "['kiwi', 'mango', 'apple', 'watermelon']\n",
            "['kiwi', 'mango']\n",
            "['kiwi', 'mango']\n",
            "['mango']\n",
            "['mango', 'apple', 'watermelon']\n",
            "['watermelon']\n",
            "['kiwi', 'mango', 'apple', 'watermelon']\n"
          ]
        }
      ],
      "source": [
        "fruit=[\"kiwi\",\"mango\",\"apple\",\"watermelon\"]\n",
        "print(fruit)\n",
        "print(fruit[0:2])\n",
        "print(fruit[:2])\n",
        "print(fruit[1:2])\n",
        "print(fruit[1:])\n",
        "print(fruit[3:])\n",
        "print(fruit[0:])"
      ]
    },
    {
      "cell_type": "markdown",
      "source": [
        "append\n"
      ],
      "metadata": {
        "id": "lDdJKd3Vajvc"
      }
    },
    {
      "cell_type": "code",
      "source": [
        "fruit=[\"kiwi\",\"mango\",\"apple\",\"watermelon\"]\n",
        "print(fruit)\n",
        "fruit.append(\"papaya\")\n",
        "print(fruit)\n",
        "print(type(fruit))\n",
        "##insertring into list\n",
        "fruit.insert(4,\"jackfruit\")\n",
        "print(fruit)\n",
        "fruit=[\"kiwi\",\"mango\",\"apple\",\"watermelon\"]\n",
        "print(fruit)\n",
        "##removing into list\n",
        "fruit.remove(\"apple\")\n",
        "print(fruit)\n",
        "##p0p into list\n",
        "fruit=[\"kiwi\",\"mango\",\"apple\",\"watermelon\"]\n",
        "fruit.pop(1)\n",
        "print(fruit)\n",
        "##del into list\n",
        "del fruit[0]\n",
        "print(fruit)\n",
        "##clear the list content\n",
        "fruit.clear()\n",
        "print(fruit)"
      ],
      "metadata": {
        "colab": {
          "base_uri": "https://localhost:8080/"
        },
        "id": "WZvun8HnanDo",
        "outputId": "12a5a8fe-61c8-4357-f7c2-b046f73448c7"
      },
      "execution_count": 9,
      "outputs": [
        {
          "output_type": "stream",
          "name": "stdout",
          "text": [
            "['kiwi', 'mango', 'apple', 'watermelon']\n",
            "['kiwi', 'mango', 'apple', 'watermelon', 'papaya']\n",
            "<class 'list'>\n",
            "['kiwi', 'mango', 'apple', 'watermelon', 'jackfruit', 'papaya']\n",
            "['kiwi', 'mango', 'apple', 'watermelon']\n",
            "['kiwi', 'mango', 'watermelon']\n",
            "['kiwi', 'apple', 'watermelon']\n",
            "['apple', 'watermelon']\n",
            "[]\n"
          ]
        }
      ]
    },
    {
      "cell_type": "code",
      "source": [
        "details=['name','rollno','marks']\n",
        "## Printing\n",
        "print(details)\n",
        "## Inserting\n",
        "details.insert(3,'address')\n",
        "print(details)\n",
        "## Adding\n",
        "details.append('village')\n",
        "print(details)\n",
        "## Removing\n",
        "details.remove('marks')\n",
        "print(details)\n",
        "## Pop\n",
        "details.pop(2)\n",
        "print(details)\n",
        "## Delete\n",
        "del details[1]\n",
        "print(details)"
      ],
      "metadata": {
        "colab": {
          "base_uri": "https://localhost:8080/"
        },
        "id": "DUVeI08YmPiv",
        "outputId": "f6ec7347-3b07-4c4c-8204-0512bc4d6e4f"
      },
      "execution_count": 11,
      "outputs": [
        {
          "output_type": "stream",
          "name": "stdout",
          "text": [
            "['name', 'rollno', 'marks']\n",
            "['name', 'rollno', 'marks', 'address']\n",
            "['name', 'rollno', 'marks', 'address', 'village']\n",
            "['name', 'rollno', 'address', 'village']\n",
            "['name', 'rollno', 'village']\n",
            "['name', 'village']\n"
          ]
        }
      ]
    },
    {
      "cell_type": "code",
      "source": [
        "alphabet=['a','b','C','d','B']\n",
        "print(alphabet)\n",
        "alphabet.sort()\n",
        "print(alphabet)\n",
        "alphabet.sort(reverse=True)\n",
        "print(alphabet)"
      ],
      "metadata": {
        "colab": {
          "base_uri": "https://localhost:8080/"
        },
        "id": "vk_9PwenmyZd",
        "outputId": "24e69088-a1b9-467c-df41-ca8cfbc055ac"
      },
      "execution_count": 12,
      "outputs": [
        {
          "output_type": "stream",
          "name": "stdout",
          "text": [
            "['a', 'b', 'C', 'd', 'B']\n",
            "['B', 'C', 'a', 'b', 'd']\n",
            "['d', 'b', 'a', 'C', 'B']\n"
          ]
        }
      ]
    }
  ]
}